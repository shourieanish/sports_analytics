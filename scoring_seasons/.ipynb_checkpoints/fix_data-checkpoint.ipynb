{
 "cells": [
  {
   "cell_type": "code",
   "execution_count": 43,
   "metadata": {},
   "outputs": [],
   "source": [
    "import pandas as pd\n",
    "import numpy as np\n",
    "\n",
    "output_ratings = pd.read_excel(\"avg_ortg.xlsx\")\n",
    "output_ratings = output_ratings.set_index('Season')\n",
    "output = pd.DataFrame()\n",
    "\n",
    "for i in range (1985,2021):\n",
    "    season = str(i-1) + \"-\" + str(i)\n",
    "    df = pd.read_excel(\"scoring/\"+season+\".xlsx\")\n",
    "    df['Lg_Avg_DRtg'] = output_ratings.loc[i, 'ORtg']\n",
    "    output = output.append(df)\n",
    "score_temp = 10**4 * (output['PPG'] * output['TS%']) / (((output['Tm_PPG'] + output[\"Lg_Avg_PPG\"])/2))\n",
    "output['scoring_value'] = score_temp / (np.log(output['MPG']) * output['Lg_Avg_DRtg'])\n",
    "output['scoring_value2'] = score_temp / (output['MPG'] * output['Lg_Avg_DRtg'])\n",
    "\n",
    "output = output.sort_values('Score', ascending = False)\n",
    "output.to_excel(\"scoring_value_output.xlsx\")"
   ]
  }
 ],
 "metadata": {
  "kernelspec": {
   "display_name": "Python 3",
   "language": "python",
   "name": "python3"
  },
  "language_info": {
   "codemirror_mode": {
    "name": "ipython",
    "version": 3
   },
   "file_extension": ".py",
   "mimetype": "text/x-python",
   "name": "python",
   "nbconvert_exporter": "python",
   "pygments_lexer": "ipython3",
   "version": "3.6.4"
  }
 },
 "nbformat": 4,
 "nbformat_minor": 2
}
